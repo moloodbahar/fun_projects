{
 "cells": [
  {
   "cell_type": "markdown",
   "id": "35da1500-6479-4f3c-8282-ab8f86567b75",
   "metadata": {},
   "source": [
    "This example uses a basic implementation of Conway's Game of Life rules for star birth and death."
   ]
  },
  {
   "cell_type": "code",
   "execution_count": 2,
   "id": "97692bf0-0c46-4897-a762-0a415cdba52c",
   "metadata": {},
   "outputs": [
    {
     "name": "stdout",
     "output_type": "stream",
     "text": [
      "Collecting pygame\n",
      "  Obtaining dependency information for pygame from https://files.pythonhosted.org/packages/66/57/1311ff5bbd64093795f64c66910bbc12b7c5d83ca95766cce7ba501ff7e7/pygame-2.5.2-cp312-cp312-win_amd64.whl.metadata\n",
      "  Downloading pygame-2.5.2-cp312-cp312-win_amd64.whl.metadata (13 kB)\n",
      "Downloading pygame-2.5.2-cp312-cp312-win_amd64.whl (10.8 MB)\n",
      "   ---------------------------------------- 0.0/10.8 MB ? eta -:--:--\n",
      "   ---------------------------------------- 0.1/10.8 MB 1.6 MB/s eta 0:00:07\n",
      "   - -------------------------------------- 0.5/10.8 MB 6.7 MB/s eta 0:00:02\n",
      "   ------ --------------------------------- 1.8/10.8 MB 14.3 MB/s eta 0:00:01\n",
      "   -------------- ------------------------- 4.0/10.8 MB 23.3 MB/s eta 0:00:01\n",
      "   ---------------- ----------------------- 4.4/10.8 MB 25.5 MB/s eta 0:00:01\n",
      "   ------------------ --------------------- 5.0/10.8 MB 19.9 MB/s eta 0:00:01\n",
      "   -------------------- ------------------- 5.5/10.8 MB 17.5 MB/s eta 0:00:01\n",
      "   ---------------------- ----------------- 6.1/10.8 MB 17.8 MB/s eta 0:00:01\n",
      "   ------------------------- -------------- 6.8/10.8 MB 16.6 MB/s eta 0:00:01\n",
      "   ------------------------------ --------- 8.3/10.8 MB 19.0 MB/s eta 0:00:01\n",
      "   -------------------------------- ------- 8.7/10.8 MB 17.3 MB/s eta 0:00:01\n",
      "   --------------------------------- ------ 9.1/10.8 MB 17.2 MB/s eta 0:00:01\n",
      "   ------------------------------------- -- 10.0/10.8 MB 17.2 MB/s eta 0:00:01\n",
      "   ---------------------------------------  10.8/10.8 MB 18.7 MB/s eta 0:00:01\n",
      "   ---------------------------------------- 10.8/10.8 MB 17.2 MB/s eta 0:00:00\n",
      "Installing collected packages: pygame\n",
      "Successfully installed pygame-2.5.2\n"
     ]
    },
    {
     "name": "stderr",
     "output_type": "stream",
     "text": [
      "\n",
      "[notice] A new release of pip is available: 23.2.1 -> 23.3.2\n",
      "[notice] To update, run: python.exe -m pip install --upgrade pip\n"
     ]
    }
   ],
   "source": [
    "#!pip install pygame"
   ]
  },
  {
   "cell_type": "code",
   "execution_count": 4,
   "id": "6ebef46c-adcb-4123-9426-5e09aac481fb",
   "metadata": {},
   "outputs": [],
   "source": [
    "import pygame\n",
    "import numpy as np"
   ]
  },
  {
   "cell_type": "code",
   "execution_count": 5,
   "id": "20745cd7-2b7a-4990-9c3b-502523815735",
   "metadata": {},
   "outputs": [],
   "source": [
    "# Constants\n",
    "WIDTH, HEIGHT = 800, 800\n",
    "CELL_SIZE = 5\n",
    "GRID_SIZE = WIDTH // CELL_SIZE\n",
    "\n",
    "# Colors\n",
    "BLACK = (0, 0, 0)\n",
    "WHITE = (255, 255, 255)\n",
    "YELLOW = (255, 255, 0)\n",
    "\n",
    "# Initialize grid with random initial state\n",
    "grid = np.random.choice([0, 1], size=(GRID_SIZE, GRID_SIZE), p=[0.9, 0.1])"
   ]
  },
  {
   "cell_type": "code",
   "execution_count": 6,
   "id": "65b980b0-bf4f-4440-9a28-4bdd34d9b07e",
   "metadata": {},
   "outputs": [],
   "source": [
    "def get_neighbors(x, y):\n",
    "    neighbors = []\n",
    "    for i in range(-1, 2):\n",
    "        for j in range(-1, 2):\n",
    "            if i == 0 and j == 0:\n",
    "                continue\n",
    "            neighbors.append(grid[(x + i) % GRID_SIZE, (y + j) % GRID_SIZE])\n",
    "    return neighbors\n",
    "\n",
    "def update_grid():\n",
    "    new_grid = grid.copy()\n",
    "    for x in range(GRID_SIZE):\n",
    "        for y in range(GRID_SIZE):\n",
    "            neighbors = get_neighbors(x, y)\n",
    "            live_neighbors = sum(neighbors)\n",
    "            # Rules for star birth, death, and interaction\n",
    "            if grid[x, y] == 0 and live_neighbors == 3:\n",
    "                new_grid[x, y] = 1  # Birth\n",
    "            elif grid[x, y] == 1 and (live_neighbors < 2 or live_neighbors > 3):\n",
    "                new_grid[x, y] = 0  # Death\n",
    "    return new_grid"
   ]
  },
  {
   "cell_type": "code",
   "execution_count": 8,
   "id": "c2aefcce-692f-4780-b282-43969d93e113",
   "metadata": {},
   "outputs": [],
   "source": [
    "# Pygame setup\n",
    "pygame.init()\n",
    "screen = pygame.display.set_mode((WIDTH, HEIGHT))\n",
    "pygame.display.set_caption(\"Galactic Simulation\")\n",
    "\n",
    "# Main loop\n",
    "running = True\n",
    "clock = pygame.time.Clock()\n",
    "\n",
    "while running:\n",
    "    for event in pygame.event.get():\n",
    "        if event.type == pygame.QUIT:\n",
    "            running = False\n",
    "\n",
    "    grid = update_grid()\n",
    "\n",
    "    screen.fill(BLACK)\n",
    "\n",
    "    # Draw stars\n",
    "    for x in range(GRID_SIZE):\n",
    "        for y in range(GRID_SIZE):\n",
    "            if grid[x, y] == 1:\n",
    "                pygame.draw.rect(screen, YELLOW, (x * CELL_SIZE, y * CELL_SIZE, CELL_SIZE, CELL_SIZE))\n",
    "\n",
    "    pygame.display.flip()\n",
    "    clock.tick(10)  # Adjust speed as needed\n",
    "\n",
    "pygame.quit()\n"
   ]
  },
  {
   "cell_type": "code",
   "execution_count": null,
   "id": "0c097c6f-6405-4d8d-8e8d-786acf641d34",
   "metadata": {},
   "outputs": [],
   "source": []
  }
 ],
 "metadata": {
  "kernelspec": {
   "display_name": "Python 3 (ipykernel)",
   "language": "python",
   "name": "python3"
  },
  "language_info": {
   "codemirror_mode": {
    "name": "ipython",
    "version": 3
   },
   "file_extension": ".py",
   "mimetype": "text/x-python",
   "name": "python",
   "nbconvert_exporter": "python",
   "pygments_lexer": "ipython3",
   "version": "3.12.0"
  }
 },
 "nbformat": 4,
 "nbformat_minor": 5
}
